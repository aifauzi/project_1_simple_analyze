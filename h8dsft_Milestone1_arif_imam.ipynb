{
 "cells": [
  {
   "cell_type": "markdown",
   "metadata": {},
   "source": [
    "# Introduction\n",
    "---"
   ]
  },
  {
   "cell_type": "markdown",
   "metadata": {},
   "source": [
    "Hello guys, this is the first exercise and project I created. Ah, you can call me Arif. I will explain a little what I did here. I pretended as a *Data Analyst* in the **Coffee Shop** business and I was asked to <u>analyze</u> (I mean, a simple analyze) the sales data of previous several months back. The analyst results will be used by the Head Store <u>to see the progress</u> of the business and <u>make decisions</u> to increase sales of the store. At least, this condition I make is like that. Source of dataset and dashboard Tableau I put it down in file [url.txt](url.txt).\n",
    "\n",
    "\n",
    "Your recommendation will be very useful for me, so I am waiting for that. Enjoy!"
   ]
  },
  {
   "cell_type": "markdown",
   "metadata": {},
   "source": [
    "# Objectives\n",
    "---"
   ]
  },
  {
   "cell_type": "markdown",
   "metadata": {},
   "source": [
    "In a nutshell, I will analyze and make a visualize about dataset. This is some steps I will did:\n",
    "1. Loading the data\n",
    "2. Data cleaning\n",
    "3. Data visualization\n",
    "4. Analyze with descriptive (central tendency, skewness, kurtosis, etc) and inferential statistics (correlation test, etc) \n",
    "5. Conclusion"
   ]
  },
  {
   "cell_type": "markdown",
   "metadata": {},
   "source": [
    "# A. Identification of Problems\n",
    "---"
   ]
  },
  {
   "cell_type": "markdown",
   "metadata": {},
   "source": [
    "## 1. Problem Statement with SMART Method"
   ]
  },
  {
   "cell_type": "markdown",
   "metadata": {},
   "source": [
    "I try to formulate the problem I want to solve using the SMART method.\n",
    "\n",
    "1. *Specific* : Increase product sales by creating product bundle promo plans based on products that are frequently ordered\n",
    "2. *Measurable* : Increased 15% product sales from the previous quarter period\n",
    "3. *Achievable* : Create a product bundle plan with a cheaper price than buying a single product separately\n",
    "4. *Relevant* : The impact of this planning is to increase interest for new consumers and loyal consumers with more affordable prices\n",
    "5. *Time-Bound* : The deadline for achieving the target of increasing 15% in product sales is 3 months\n",
    "\n",
    "**Problem Statement** : Create a product bundle promo plan to increase 15% of product sales within 3 months to attract consumer interest in buying products."
   ]
  },
  {
   "cell_type": "markdown",
   "metadata": {},
   "source": [
    "## 2. Problem Description"
   ]
  },
  {
   "cell_type": "markdown",
   "metadata": {},
   "source": [
    "Based on the problem statement I created before, these are a few questions I will solve:\n",
    "\n",
    "1. What types of products are mostly ordered by consumers?\n",
    "2. How many average orders we can receive each month?\n",
    "3. In what month was the highest and lowest total income recorded?\n",
    "4. Which store has the biggest revenue?\n",
    "5. For beverage product types, what glass sizes are most ordered?\n",
    "6. How is the distribution of income data for 2 back quarters?\n",
    "7. Why is some product more ordered? Is it because more cheaper product prices?\n",
    "8. Any correlation between the location of the store and total product sales?"
   ]
  },
  {
   "cell_type": "markdown",
   "metadata": {},
   "source": [
    "# B. Import Library\n",
    "---"
   ]
  },
  {
   "cell_type": "markdown",
   "metadata": {},
   "source": [
    "This section just to write a library that will be use."
   ]
  },
  {
   "cell_type": "code",
   "execution_count": null,
   "metadata": {},
   "outputs": [],
   "source": [
    "import pandas as pd\n",
    "from scipy import stats\n",
    "import matplotlib.pyplot as plt\n",
    "import seaborn as sns\n",
    "import plotly.express as px"
   ]
  },
  {
   "cell_type": "markdown",
   "metadata": {},
   "source": [
    "# C. Data Loading\n",
    "---"
   ]
  },
  {
   "cell_type": "markdown",
   "metadata": {},
   "source": [
    "## 1. Load Dataset"
   ]
  },
  {
   "cell_type": "markdown",
   "metadata": {},
   "source": [
    "We load the dataset."
   ]
  },
  {
   "cell_type": "code",
   "execution_count": 3,
   "metadata": {},
   "outputs": [
    {
     "data": {
      "text/html": [
       "<div>\n",
       "<style scoped>\n",
       "    .dataframe tbody tr th:only-of-type {\n",
       "        vertical-align: middle;\n",
       "    }\n",
       "\n",
       "    .dataframe tbody tr th {\n",
       "        vertical-align: top;\n",
       "    }\n",
       "\n",
       "    .dataframe thead th {\n",
       "        text-align: right;\n",
       "    }\n",
       "</style>\n",
       "<table border=\"1\" class=\"dataframe\">\n",
       "  <thead>\n",
       "    <tr style=\"text-align: right;\">\n",
       "      <th></th>\n",
       "      <th>transaction_id</th>\n",
       "      <th>transaction_date</th>\n",
       "      <th>transaction_time</th>\n",
       "      <th>store_id</th>\n",
       "      <th>store_location</th>\n",
       "      <th>product_id</th>\n",
       "      <th>transaction_qty</th>\n",
       "      <th>unit_price</th>\n",
       "      <th>Total_Bill</th>\n",
       "      <th>product_category</th>\n",
       "      <th>product_type</th>\n",
       "      <th>product_detail</th>\n",
       "      <th>Size</th>\n",
       "      <th>Month Name</th>\n",
       "      <th>Day Name</th>\n",
       "      <th>Hour</th>\n",
       "      <th>Month</th>\n",
       "      <th>Day of Week</th>\n",
       "    </tr>\n",
       "  </thead>\n",
       "  <tbody>\n",
       "    <tr>\n",
       "      <th>0</th>\n",
       "      <td>114301</td>\n",
       "      <td>01-06-2023</td>\n",
       "      <td>11:33:29</td>\n",
       "      <td>3</td>\n",
       "      <td>Astoria</td>\n",
       "      <td>45</td>\n",
       "      <td>1</td>\n",
       "      <td>3.00</td>\n",
       "      <td>3.0</td>\n",
       "      <td>Tea</td>\n",
       "      <td>Brewed herbal tea</td>\n",
       "      <td>Peppermint</td>\n",
       "      <td>Large</td>\n",
       "      <td>June</td>\n",
       "      <td>Thursday</td>\n",
       "      <td>11</td>\n",
       "      <td>6</td>\n",
       "      <td>3</td>\n",
       "    </tr>\n",
       "    <tr>\n",
       "      <th>1</th>\n",
       "      <td>115405</td>\n",
       "      <td>02-06-2023</td>\n",
       "      <td>11:18:24</td>\n",
       "      <td>3</td>\n",
       "      <td>Astoria</td>\n",
       "      <td>45</td>\n",
       "      <td>1</td>\n",
       "      <td>3.00</td>\n",
       "      <td>3.0</td>\n",
       "      <td>Tea</td>\n",
       "      <td>Brewed herbal tea</td>\n",
       "      <td>Peppermint</td>\n",
       "      <td>Large</td>\n",
       "      <td>June</td>\n",
       "      <td>Friday</td>\n",
       "      <td>11</td>\n",
       "      <td>6</td>\n",
       "      <td>4</td>\n",
       "    </tr>\n",
       "    <tr>\n",
       "      <th>2</th>\n",
       "      <td>115478</td>\n",
       "      <td>02-06-2023</td>\n",
       "      <td>12:02:45</td>\n",
       "      <td>3</td>\n",
       "      <td>Astoria</td>\n",
       "      <td>45</td>\n",
       "      <td>1</td>\n",
       "      <td>3.00</td>\n",
       "      <td>3.0</td>\n",
       "      <td>Tea</td>\n",
       "      <td>Brewed herbal tea</td>\n",
       "      <td>Peppermint</td>\n",
       "      <td>Large</td>\n",
       "      <td>June</td>\n",
       "      <td>Friday</td>\n",
       "      <td>12</td>\n",
       "      <td>6</td>\n",
       "      <td>4</td>\n",
       "    </tr>\n",
       "    <tr>\n",
       "      <th>3</th>\n",
       "      <td>116288</td>\n",
       "      <td>02-06-2023</td>\n",
       "      <td>19:39:47</td>\n",
       "      <td>3</td>\n",
       "      <td>Astoria</td>\n",
       "      <td>45</td>\n",
       "      <td>1</td>\n",
       "      <td>3.00</td>\n",
       "      <td>3.0</td>\n",
       "      <td>Tea</td>\n",
       "      <td>Brewed herbal tea</td>\n",
       "      <td>Peppermint</td>\n",
       "      <td>Large</td>\n",
       "      <td>June</td>\n",
       "      <td>Friday</td>\n",
       "      <td>19</td>\n",
       "      <td>6</td>\n",
       "      <td>4</td>\n",
       "    </tr>\n",
       "    <tr>\n",
       "      <th>4</th>\n",
       "      <td>116714</td>\n",
       "      <td>03-06-2023</td>\n",
       "      <td>12:24:57</td>\n",
       "      <td>3</td>\n",
       "      <td>Astoria</td>\n",
       "      <td>45</td>\n",
       "      <td>1</td>\n",
       "      <td>3.00</td>\n",
       "      <td>3.0</td>\n",
       "      <td>Tea</td>\n",
       "      <td>Brewed herbal tea</td>\n",
       "      <td>Peppermint</td>\n",
       "      <td>Large</td>\n",
       "      <td>June</td>\n",
       "      <td>Saturday</td>\n",
       "      <td>12</td>\n",
       "      <td>6</td>\n",
       "      <td>5</td>\n",
       "    </tr>\n",
       "    <tr>\n",
       "      <th>...</th>\n",
       "      <td>...</td>\n",
       "      <td>...</td>\n",
       "      <td>...</td>\n",
       "      <td>...</td>\n",
       "      <td>...</td>\n",
       "      <td>...</td>\n",
       "      <td>...</td>\n",
       "      <td>...</td>\n",
       "      <td>...</td>\n",
       "      <td>...</td>\n",
       "      <td>...</td>\n",
       "      <td>...</td>\n",
       "      <td>...</td>\n",
       "      <td>...</td>\n",
       "      <td>...</td>\n",
       "      <td>...</td>\n",
       "      <td>...</td>\n",
       "      <td>...</td>\n",
       "    </tr>\n",
       "    <tr>\n",
       "      <th>149111</th>\n",
       "      <td>129465</td>\n",
       "      <td>14-06-2023</td>\n",
       "      <td>08:34:10</td>\n",
       "      <td>5</td>\n",
       "      <td>Lower Manhattan</td>\n",
       "      <td>41</td>\n",
       "      <td>4</td>\n",
       "      <td>4.25</td>\n",
       "      <td>17.0</td>\n",
       "      <td>Coffee</td>\n",
       "      <td>Barista Espresso</td>\n",
       "      <td>Cappuccino</td>\n",
       "      <td>Large</td>\n",
       "      <td>June</td>\n",
       "      <td>Wednesday</td>\n",
       "      <td>8</td>\n",
       "      <td>6</td>\n",
       "      <td>2</td>\n",
       "    </tr>\n",
       "    <tr>\n",
       "      <th>149112</th>\n",
       "      <td>133523</td>\n",
       "      <td>17-06-2023</td>\n",
       "      <td>09:55:47</td>\n",
       "      <td>8</td>\n",
       "      <td>Hell's Kitchen</td>\n",
       "      <td>8</td>\n",
       "      <td>8</td>\n",
       "      <td>45.00</td>\n",
       "      <td>360.0</td>\n",
       "      <td>Coffee beans</td>\n",
       "      <td>Premium Beans</td>\n",
       "      <td>Civet Cat</td>\n",
       "      <td>Not Defined</td>\n",
       "      <td>June</td>\n",
       "      <td>Saturday</td>\n",
       "      <td>9</td>\n",
       "      <td>6</td>\n",
       "      <td>5</td>\n",
       "    </tr>\n",
       "    <tr>\n",
       "      <th>149113</th>\n",
       "      <td>133674</td>\n",
       "      <td>17-06-2023</td>\n",
       "      <td>10:41:11</td>\n",
       "      <td>8</td>\n",
       "      <td>Hell's Kitchen</td>\n",
       "      <td>8</td>\n",
       "      <td>8</td>\n",
       "      <td>45.00</td>\n",
       "      <td>360.0</td>\n",
       "      <td>Coffee beans</td>\n",
       "      <td>Premium Beans</td>\n",
       "      <td>Civet Cat</td>\n",
       "      <td>Not Defined</td>\n",
       "      <td>June</td>\n",
       "      <td>Saturday</td>\n",
       "      <td>10</td>\n",
       "      <td>6</td>\n",
       "      <td>5</td>\n",
       "    </tr>\n",
       "    <tr>\n",
       "      <th>149114</th>\n",
       "      <td>133744</td>\n",
       "      <td>17-06-2023</td>\n",
       "      <td>11:18:31</td>\n",
       "      <td>8</td>\n",
       "      <td>Hell's Kitchen</td>\n",
       "      <td>8</td>\n",
       "      <td>8</td>\n",
       "      <td>45.00</td>\n",
       "      <td>360.0</td>\n",
       "      <td>Coffee beans</td>\n",
       "      <td>Premium Beans</td>\n",
       "      <td>Civet Cat</td>\n",
       "      <td>Not Defined</td>\n",
       "      <td>June</td>\n",
       "      <td>Saturday</td>\n",
       "      <td>11</td>\n",
       "      <td>6</td>\n",
       "      <td>5</td>\n",
       "    </tr>\n",
       "    <tr>\n",
       "      <th>149115</th>\n",
       "      <td>149043</td>\n",
       "      <td>30-06-2023</td>\n",
       "      <td>11:18:31</td>\n",
       "      <td>8</td>\n",
       "      <td>Hell's Kitchen</td>\n",
       "      <td>8</td>\n",
       "      <td>8</td>\n",
       "      <td>45.00</td>\n",
       "      <td>360.0</td>\n",
       "      <td>Coffee beans</td>\n",
       "      <td>Premium Beans</td>\n",
       "      <td>Civet Cat</td>\n",
       "      <td>Not Defined</td>\n",
       "      <td>June</td>\n",
       "      <td>Friday</td>\n",
       "      <td>11</td>\n",
       "      <td>6</td>\n",
       "      <td>4</td>\n",
       "    </tr>\n",
       "  </tbody>\n",
       "</table>\n",
       "<p>149116 rows × 18 columns</p>\n",
       "</div>"
      ],
      "text/plain": [
       "        transaction_id transaction_date transaction_time  store_id  \\\n",
       "0               114301       01-06-2023         11:33:29         3   \n",
       "1               115405       02-06-2023         11:18:24         3   \n",
       "2               115478       02-06-2023         12:02:45         3   \n",
       "3               116288       02-06-2023         19:39:47         3   \n",
       "4               116714       03-06-2023         12:24:57         3   \n",
       "...                ...              ...              ...       ...   \n",
       "149111          129465       14-06-2023         08:34:10         5   \n",
       "149112          133523       17-06-2023         09:55:47         8   \n",
       "149113          133674       17-06-2023         10:41:11         8   \n",
       "149114          133744       17-06-2023         11:18:31         8   \n",
       "149115          149043       30-06-2023         11:18:31         8   \n",
       "\n",
       "         store_location  product_id  transaction_qty  unit_price  Total_Bill  \\\n",
       "0               Astoria          45                1        3.00         3.0   \n",
       "1               Astoria          45                1        3.00         3.0   \n",
       "2               Astoria          45                1        3.00         3.0   \n",
       "3               Astoria          45                1        3.00         3.0   \n",
       "4               Astoria          45                1        3.00         3.0   \n",
       "...                 ...         ...              ...         ...         ...   \n",
       "149111  Lower Manhattan          41                4        4.25        17.0   \n",
       "149112   Hell's Kitchen           8                8       45.00       360.0   \n",
       "149113   Hell's Kitchen           8                8       45.00       360.0   \n",
       "149114   Hell's Kitchen           8                8       45.00       360.0   \n",
       "149115   Hell's Kitchen           8                8       45.00       360.0   \n",
       "\n",
       "       product_category       product_type product_detail         Size  \\\n",
       "0                   Tea  Brewed herbal tea     Peppermint        Large   \n",
       "1                   Tea  Brewed herbal tea     Peppermint        Large   \n",
       "2                   Tea  Brewed herbal tea     Peppermint        Large   \n",
       "3                   Tea  Brewed herbal tea     Peppermint        Large   \n",
       "4                   Tea  Brewed herbal tea     Peppermint        Large   \n",
       "...                 ...                ...            ...          ...   \n",
       "149111           Coffee   Barista Espresso     Cappuccino        Large   \n",
       "149112     Coffee beans      Premium Beans      Civet Cat  Not Defined   \n",
       "149113     Coffee beans      Premium Beans      Civet Cat  Not Defined   \n",
       "149114     Coffee beans      Premium Beans      Civet Cat  Not Defined   \n",
       "149115     Coffee beans      Premium Beans      Civet Cat  Not Defined   \n",
       "\n",
       "       Month Name   Day Name  Hour  Month  Day of Week  \n",
       "0            June   Thursday    11      6            3  \n",
       "1            June     Friday    11      6            4  \n",
       "2            June     Friday    12      6            4  \n",
       "3            June     Friday    19      6            4  \n",
       "4            June   Saturday    12      6            5  \n",
       "...           ...        ...   ...    ...          ...  \n",
       "149111       June  Wednesday     8      6            2  \n",
       "149112       June   Saturday     9      6            5  \n",
       "149113       June   Saturday    10      6            5  \n",
       "149114       June   Saturday    11      6            5  \n",
       "149115       June     Friday    11      6            4  \n",
       "\n",
       "[149116 rows x 18 columns]"
      ]
     },
     "execution_count": 3,
     "metadata": {},
     "output_type": "execute_result"
    }
   ],
   "source": [
    "# load dataset\n",
    "df = pd.read_csv('coffe_shop.csv')\n",
    "\n",
    "# show up\n",
    "df"
   ]
  },
  {
   "cell_type": "markdown",
   "metadata": {},
   "source": [
    "In this dataset, the volume is 149116 rows and 18 columns with some features in numeric and categorical types."
   ]
  },
  {
   "cell_type": "markdown",
   "metadata": {},
   "source": [
    "## 2. Documentation of Dataset"
   ]
  },
  {
   "cell_type": "markdown",
   "metadata": {},
   "source": [
    "The data provided contains several things related to transactions, which I explain below."
   ]
  },
  {
   "cell_type": "markdown",
   "metadata": {},
   "source": [
    "* `transaction_id` : specific id code for each transaction\n",
    "* `transaction_date` : date of transaction\n",
    "* `transaction_time` : time of transaction\n",
    "* `store_id` : id code for each store\n",
    "* `store_location` : location of branch store\n",
    "* `product_id` : id code for each item/product\n",
    "* `total_bill` : total payment in one transaction\n",
    "* `unit_price` : price of each product\n",
    "* `transaction_qty` : sum of transaction\n",
    "* `product_category` : product category ordered\n",
    "* `product_type` : types of products in each category\n",
    "* `product_detail` : product name\n",
    "* `Size` : the size intended for beverage products\n",
    "* `Month Name` : month name \n",
    "* `Day Name` : day name\n",
    "* `Hour` : hour of transaction\n",
    "* `Month` : month of transaction (number)\n",
    "* `Day of Week` : day numbering starts from Monday = 0 to Sunday = 6 (this numbering can be different in some other cases)"
   ]
  },
  {
   "cell_type": "markdown",
   "metadata": {},
   "source": [
    "# D. Data Cleaning\n",
    "---"
   ]
  },
  {
   "cell_type": "markdown",
   "metadata": {},
   "source": [
    "In this section, I will make adjustments to the dataset to make it easier to analyze."
   ]
  },
  {
   "cell_type": "markdown",
   "metadata": {},
   "source": [
    "## 1. Change the Name of Columns\n",
    "\n",
    "Make a name columns with format lowercase and used underscore to name columns with more than 2 words."
   ]
  },
  {
   "cell_type": "code",
   "execution_count": 4,
   "metadata": {},
   "outputs": [],
   "source": [
    "# change name columns with rename()\n",
    "\n",
    "df = df.rename(columns={'Total_Bill': 'total_bill', 'Size': 'size', 'Month Name': 'month_name'})"
   ]
  },
  {
   "cell_type": "markdown",
   "metadata": {},
   "source": [
    "## 2. Delete Columns\n",
    "\n",
    "Delete columns that are not very important."
   ]
  },
  {
   "cell_type": "code",
   "execution_count": 5,
   "metadata": {},
   "outputs": [],
   "source": [
    "# delete columns with drop()\n",
    " \n",
    "df = df.drop(columns=['Day Name', 'Hour', 'Month', 'Day of Week'])"
   ]
  },
  {
   "cell_type": "markdown",
   "metadata": {},
   "source": [
    "## 3. Change Data Type\n",
    "\n",
    "Adjusment the data type according the value in every columns."
   ]
  },
  {
   "cell_type": "code",
   "execution_count": 6,
   "metadata": {},
   "outputs": [
    {
     "name": "stdout",
     "output_type": "stream",
     "text": [
      "<class 'pandas.core.frame.DataFrame'>\n",
      "RangeIndex: 149116 entries, 0 to 149115\n",
      "Data columns (total 14 columns):\n",
      " #   Column            Non-Null Count   Dtype  \n",
      "---  ------            --------------   -----  \n",
      " 0   transaction_id    149116 non-null  int64  \n",
      " 1   transaction_date  149116 non-null  object \n",
      " 2   transaction_time  149116 non-null  object \n",
      " 3   store_id          149116 non-null  int64  \n",
      " 4   store_location    149116 non-null  object \n",
      " 5   product_id        149116 non-null  int64  \n",
      " 6   transaction_qty   149116 non-null  int64  \n",
      " 7   unit_price        149116 non-null  float64\n",
      " 8   total_bill        149116 non-null  float64\n",
      " 9   product_category  149116 non-null  object \n",
      " 10  product_type      149116 non-null  object \n",
      " 11  product_detail    149116 non-null  object \n",
      " 12  size              149116 non-null  object \n",
      " 13  month_name        149116 non-null  object \n",
      "dtypes: float64(2), int64(4), object(8)\n",
      "memory usage: 15.9+ MB\n"
     ]
    }
   ],
   "source": [
    "# check dataset first\n",
    "\n",
    "df.info()"
   ]
  },
  {
   "cell_type": "markdown",
   "metadata": {},
   "source": [
    "I decided to put it together between column `transaction_date` and `transaction_time` into a new column as `transaction_datetime`."
   ]
  },
  {
   "cell_type": "code",
   "execution_count": 7,
   "metadata": {},
   "outputs": [],
   "source": [
    "# make a new column with name transaction_datetime\n",
    "\n",
    "df['transaction_datetime'] = df['transaction_date'] + ' ' + df['transaction_time']\n",
    "\n",
    "# change the data type of transaction_datetime column to datetime\n",
    "# adjusment transformation of textual condition with format DD-MM-YY\n",
    "\n",
    "df['transaction_datetime'] = pd.to_datetime(df['transaction_datetime'], format='%d-%m-%Y %H:%M:%S')\n",
    "\n",
    "\n",
    "# delete column of transaction_date and transaction_time\n",
    "\n",
    "df = df.drop(columns=['transaction_date', 'transaction_time'])"
   ]
  },
  {
   "cell_type": "markdown",
   "metadata": {},
   "source": [
    "Change the data type of `unit_price` and `total_bill` to be integer."
   ]
  },
  {
   "cell_type": "code",
   "execution_count": 8,
   "metadata": {},
   "outputs": [],
   "source": [
    "# change the data type of unit_price and total_bill\n",
    "\n",
    "df['unit_price'] = df['unit_price'].astype(int)\n",
    "df['total_bill'] = df['total_bill'].astype(int)"
   ]
  },
  {
   "cell_type": "markdown",
   "metadata": {},
   "source": [
    "## 4. Handling Missing Value (Duplicate, Null/None/NaN)\n",
    "\n",
    "We check the value with duplicated in other rows or not and value is `null`/`None`."
   ]
  },
  {
   "cell_type": "code",
   "execution_count": 9,
   "metadata": {},
   "outputs": [
    {
     "data": {
      "text/plain": [
       "0"
      ]
     },
     "execution_count": 9,
     "metadata": {},
     "output_type": "execute_result"
    }
   ],
   "source": [
    "# check with duplicated()\n",
    "\n",
    "df.duplicated().sum()"
   ]
  },
  {
   "cell_type": "markdown",
   "metadata": {},
   "source": [
    "We have no duplicated data. \n",
    "\n",
    "Then we check value is `null`/`None`."
   ]
  },
  {
   "cell_type": "code",
   "execution_count": 10,
   "metadata": {},
   "outputs": [
    {
     "data": {
      "text/plain": [
       "transaction_id          0\n",
       "store_id                0\n",
       "store_location          0\n",
       "product_id              0\n",
       "transaction_qty         0\n",
       "unit_price              0\n",
       "total_bill              0\n",
       "product_category        0\n",
       "product_type            0\n",
       "product_detail          0\n",
       "size                    0\n",
       "month_name              0\n",
       "transaction_datetime    0\n",
       "dtype: int64"
      ]
     },
     "execution_count": 10,
     "metadata": {},
     "output_type": "execute_result"
    }
   ],
   "source": [
    "# use isnull()\n",
    "\n",
    "df.isnull().sum()"
   ]
  },
  {
   "cell_type": "markdown",
   "metadata": {},
   "source": [
    "Same, we don't have any value is `null`/`None`."
   ]
  },
  {
   "cell_type": "markdown",
   "metadata": {},
   "source": [
    "# E. Analyze & Calculate\n",
    "---\n",
    "\n",
    "In this section we will focus to solve the question in **Problem Description**. The result maybe can a diagram (visualize) or some kind of calculation."
   ]
  },
  {
   "cell_type": "markdown",
   "metadata": {},
   "source": [
    "## 1. What types of products are mostly ordered by consumers?"
   ]
  },
  {
   "cell_type": "code",
   "execution_count": 11,
   "metadata": {},
   "outputs": [
    {
     "data": {
      "text/plain": [
       "array(['Tea', 'Coffee', 'Bakery', 'Drinking Chocolate', 'Flavours',\n",
       "       'Loose Tea', 'Packaged Chocolate', 'Branded', 'Coffee beans'],\n",
       "      dtype=object)"
      ]
     },
     "execution_count": 11,
     "metadata": {},
     "output_type": "execute_result"
    }
   ],
   "source": [
    "# search the type of product category first\n",
    "\n",
    "df['product_category'].unique()"
   ]
  },
  {
   "cell_type": "markdown",
   "metadata": {},
   "source": [
    "The products sold are not only food (`Bakery`) and drinks (`Tea`, `Coffee`, `Chocolate`), but there are also non-food products (`Branded`)."
   ]
  },
  {
   "cell_type": "code",
   "execution_count": 12,
   "metadata": {},
   "outputs": [
    {
     "data": {
      "text/plain": [
       "array(['Clothing', 'Housewares'], dtype=object)"
      ]
     },
     "execution_count": 12,
     "metadata": {},
     "output_type": "execute_result"
    }
   ],
   "source": [
    "# check what is the Branded product\n",
    "\n",
    "df['product_type'][(df['product_category'] == 'Branded')].unique()"
   ]
  },
  {
   "cell_type": "markdown",
   "metadata": {},
   "source": [
    "The `Branded` product are `Clothing` and `Housewares`."
   ]
  },
  {
   "cell_type": "markdown",
   "metadata": {},
   "source": [
    "Now, we check the sum of orders for each product in 2 quartal."
   ]
  },
  {
   "cell_type": "code",
   "execution_count": 13,
   "metadata": {},
   "outputs": [
    {
     "data": {
      "text/plain": [
       "product_category\n",
       "Coffee                89250\n",
       "Tea                   69737\n",
       "Bakery                23214\n",
       "Drinking Chocolate    17457\n",
       "Flavours              10511\n",
       "Coffee beans           1828\n",
       "Loose Tea              1210\n",
       "Branded                 776\n",
       "Packaged Chocolate      487\n",
       "Name: transaction_qty, dtype: int64"
      ]
     },
     "execution_count": 13,
     "metadata": {},
     "output_type": "execute_result"
    }
   ],
   "source": [
    "# I grouped the data based on product_category and added it based on transaction_qty\n",
    "\n",
    "df.groupby(['product_category']).sum()['transaction_qty'].sort_values(ascending=False)"
   ]
  },
  {
   "cell_type": "markdown",
   "metadata": {},
   "source": [
    "It can be seen that 89,250 `Coffee` products have been ordered, followed by 69,737 for `Tea` and 23,214 for `Bakery`."
   ]
  },
  {
   "cell_type": "code",
   "execution_count": 14,
   "metadata": {},
   "outputs": [
    {
     "data": {
      "text/plain": [
       "<AxesSubplot:title={'center':'The Top-Selling Product'}, xlabel='Product Category', ylabel='Order'>"
      ]
     },
     "execution_count": 14,
     "metadata": {},
     "output_type": "execute_result"
    },
    {
     "data": {
      "image/png": "[encoded data removed]",
      "text/plain": [
       "<Figure size 640x480 with 1 Axes>"
      ]
     },
     "metadata": {},
     "output_type": "display_data"
    }
   ],
   "source": [
    "# make the plot\n",
    "\n",
    "df.groupby(['product_category']).sum()['transaction_qty'].sort_values(ascending=False).plot(kind='bar', xlabel='Product Category', ylabel='Order', title='The Top-Selling Product')"
   ]
  },
  {
   "cell_type": "markdown",
   "metadata": {},
   "source": [
    "Interpretation the results of the visualization above, we know that the product most ordered in the first 2 quarters was `Coffee`, then `Tea` then `Bakery`. This is the total of orders taken from all branches.\n",
    "\n",
    "I choose data visualization with a bar chart because I wanted to see a comparison of the values ​​in every product category."
   ]
  },
  {
   "cell_type": "markdown",
   "metadata": {},
   "source": [
    "## 2. How many average orders we can receive each month?"
   ]
  },
  {
   "cell_type": "code",
   "execution_count": 15,
   "metadata": {},
   "outputs": [
    {
     "data": {
      "text/plain": [
       "month_name\n",
       "April       36469\n",
       "February    23550\n",
       "January     24870\n",
       "June        50942\n",
       "March       30406\n",
       "May         48233\n",
       "Name: transaction_qty, dtype: int64"
      ]
     },
     "execution_count": 15,
     "metadata": {},
     "output_type": "execute_result"
    }
   ],
   "source": [
    "# first, look the total ordered every month\n",
    "\n",
    "df.groupby(['month_name']).sum()['transaction_qty']"
   ]
  },
  {
   "cell_type": "markdown",
   "metadata": {},
   "source": [
    "From the visualization above, we can see that <u>June is the highest orders</u> received, while in <u>February the lowest of orders</u> were received. "
   ]
  },
  {
   "cell_type": "code",
   "execution_count": 16,
   "metadata": {},
   "outputs": [
    {
     "name": "stderr",
     "output_type": "stream",
     "text": [
      "C:\\Users\\ARIF\\AppData\\Local\\Temp\\ipykernel_13640\\1116086404.py:8: FutureWarning: \n",
      "\n",
      "Passing `palette` without assigning `hue` is deprecated and will be removed in v0.14.0. Assign the `x` variable to `hue` and set `legend=False` for the same effect.\n",
      "\n",
      "  sns.barplot(x='month_name', y='transaction_qty', data=group_month, order=month, palette='Set3').set(title='Order Product of Month')\n"
     ]
    },
    {
     "data": {
      "text/plain": [
       "[Text(0.5, 1.0, 'Order Product of Month')]"
      ]
     },
     "execution_count": 16,
     "metadata": {},
     "output_type": "execute_result"
    },
    {
     "data": {
      "image/png": "[encoded data removed]",
      "text/plain": [
       "<Figure size 640x480 with 1 Axes>"
      ]
     },
     "metadata": {},
     "output_type": "display_data"
    }
   ],
   "source": [
    "# make a list with the value of month name\n",
    "month = ['January', 'February', 'March', 'April', 'May', 'June']\n",
    "\n",
    "# make a new dataframe with the result of syntax total ordered every month\n",
    "group_month = pd.DataFrame(df.groupby(['month_name']).sum()['transaction_qty'])\n",
    "\n",
    "# make a plot\n",
    "sns.barplot(x='month_name', y='transaction_qty', data=group_month, order=month, palette='Set3').set(title='Order Product of Month')"
   ]
  },
  {
   "cell_type": "markdown",
   "metadata": {},
   "source": [
    "That visualization, it easier for us to understand that the <u>trend of orders tends to **increase** every month</u>. Then what about the average orders each month?"
   ]
  },
  {
   "cell_type": "code",
   "execution_count": 17,
   "metadata": {},
   "outputs": [],
   "source": [
    "# group the data by month with the aggregate total of orders, then store it in a variable\n",
    "\n",
    "order = df.groupby(['month_name']).sum()['transaction_qty'].sort_values(ascending=False).sum()"
   ]
  },
  {
   "cell_type": "code",
   "execution_count": 18,
   "metadata": {},
   "outputs": [
    {
     "name": "stdout",
     "output_type": "stream",
     "text": [
      "Rata-rata pesanan yang diterima dalam setiap bulannya adalah 35745.0\n"
     ]
    }
   ],
   "source": [
    "# calculate the average orders per month (divide by 6 because 2 quarters)\n",
    "\n",
    "mean_pemesanan = order/6\n",
    "print(f'Rata-rata pesanan yang diterima dalam setiap bulannya adalah {mean_pemesanan}')"
   ]
  },
  {
   "cell_type": "markdown",
   "metadata": {},
   "source": [
    "From the results, it is concluded that the <u>average product orders each month are around 35,745 orders</u>."
   ]
  },
  {
   "cell_type": "markdown",
   "metadata": {},
   "source": [
    "## 3. In what month was the highest and lowest total income recorded?"
   ]
  },
  {
   "cell_type": "code",
   "execution_count": 19,
   "metadata": {},
   "outputs": [],
   "source": [
    "# group the data by month and then calculate the aggregate income value for each month\n",
    "\n",
    "profit = df.groupby(['month_name']).sum()['total_bill']\n",
    "\n",
    "# save it in a new dataframe\n",
    "\n",
    "profit = pd.DataFrame(profit)\n",
    "profit.reset_index(inplace=True)"
   ]
  },
  {
   "cell_type": "code",
   "execution_count": 20,
   "metadata": {},
   "outputs": [],
   "source": [
    "# search the highest and lowest total income\n",
    "\n",
    "max_profit = profit['total_bill'].max()\n",
    "min_profit = profit['total_bill'].min()"
   ]
  },
  {
   "cell_type": "code",
   "execution_count": 21,
   "metadata": {},
   "outputs": [
    {
     "data": {
      "text/html": [
       "<div>\n",
       "<style scoped>\n",
       "    .dataframe tbody tr th:only-of-type {\n",
       "        vertical-align: middle;\n",
       "    }\n",
       "\n",
       "    .dataframe tbody tr th {\n",
       "        vertical-align: top;\n",
       "    }\n",
       "\n",
       "    .dataframe thead th {\n",
       "        text-align: right;\n",
       "    }\n",
       "</style>\n",
       "<table border=\"1\" class=\"dataframe\">\n",
       "  <thead>\n",
       "    <tr style=\"text-align: right;\">\n",
       "      <th></th>\n",
       "      <th>month_name</th>\n",
       "      <th>total_bill</th>\n",
       "    </tr>\n",
       "  </thead>\n",
       "  <tbody>\n",
       "    <tr>\n",
       "      <th>3</th>\n",
       "      <td>June</td>\n",
       "      <td>156281</td>\n",
       "    </tr>\n",
       "  </tbody>\n",
       "</table>\n",
       "</div>"
      ],
      "text/plain": [
       "  month_name  total_bill\n",
       "3       June      156281"
      ]
     },
     "execution_count": 21,
     "metadata": {},
     "output_type": "execute_result"
    }
   ],
   "source": [
    "# show the highest total income in month name\n",
    "\n",
    "profit[(profit['total_bill'] == max_profit)]"
   ]
  },
  {
   "cell_type": "code",
   "execution_count": 22,
   "metadata": {},
   "outputs": [
    {
     "data": {
      "text/html": [
       "<div>\n",
       "<style scoped>\n",
       "    .dataframe tbody tr th:only-of-type {\n",
       "        vertical-align: middle;\n",
       "    }\n",
       "\n",
       "    .dataframe tbody tr th {\n",
       "        vertical-align: top;\n",
       "    }\n",
       "\n",
       "    .dataframe thead th {\n",
       "        text-align: right;\n",
       "    }\n",
       "</style>\n",
       "<table border=\"1\" class=\"dataframe\">\n",
       "  <thead>\n",
       "    <tr style=\"text-align: right;\">\n",
       "      <th></th>\n",
       "      <th>month_name</th>\n",
       "      <th>total_bill</th>\n",
       "    </tr>\n",
       "  </thead>\n",
       "  <tbody>\n",
       "    <tr>\n",
       "      <th>1</th>\n",
       "      <td>February</td>\n",
       "      <td>71418</td>\n",
       "    </tr>\n",
       "  </tbody>\n",
       "</table>\n",
       "</div>"
      ],
      "text/plain": [
       "  month_name  total_bill\n",
       "1   February       71418"
      ]
     },
     "execution_count": 22,
     "metadata": {},
     "output_type": "execute_result"
    }
   ],
   "source": [
    "# show the lowest total income in month name\n",
    "\n",
    "profit[(profit['total_bill'] == min_profit)]"
   ]
  },
  {
   "cell_type": "markdown",
   "metadata": {},
   "source": [
    "It was concluded that **the highest income occurred in June** with total income of $156281, while **the lowest income occurred in February** with total income of $71418."
   ]
  },
  {
   "cell_type": "code",
   "execution_count": 23,
   "metadata": {},
   "outputs": [
    {
     "name": "stderr",
     "output_type": "stream",
     "text": [
      "C:\\Users\\ARIF\\AppData\\Local\\Temp\\ipykernel_13640\\3886406550.py:3: FutureWarning: \n",
      "\n",
      "Passing `palette` without assigning `hue` is deprecated and will be removed in v0.14.0. Assign the `x` variable to `hue` and set `legend=False` for the same effect.\n",
      "\n",
      "  sns.barplot(x='month_name', y='total_bill', data=profit, order=month, palette='Set1').set(title='Profit of Month')\n"
     ]
    },
    {
     "data": {
      "text/plain": [
       "[Text(0.5, 1.0, 'Profit of Month')]"
      ]
     },
     "execution_count": 23,
     "metadata": {},
     "output_type": "execute_result"
    },
    {
     "data": {
      "image/png": "[encoded data removed]",
      "text/plain": [
       "<Figure size 640x480 with 1 Axes>"
      ]
     },
     "metadata": {},
     "output_type": "display_data"
    }
   ],
   "source": [
    "# make a plot\n",
    "\n",
    "sns.barplot(x='month_name', y='total_bill', data=profit, order=month, palette='Set1').set(title='Profit of Month')"
   ]
  },
  {
   "cell_type": "markdown",
   "metadata": {},
   "source": [
    "In conclusion, **the highest income occurs in June** and **the lowest income occurs in February**."
   ]
  },
  {
   "cell_type": "markdown",
   "metadata": {},
   "source": [
    "## 4. Which store has the biggest revenue?"
   ]
  },
  {
   "cell_type": "code",
   "execution_count": 24,
   "metadata": {},
   "outputs": [
    {
     "data": {
      "text/plain": [
       "store_location\n",
       "Astoria            218060\n",
       "Hell's Kitchen     222051\n",
       "Lower Manhattan    215500\n",
       "Name: total_bill, dtype: int32"
      ]
     },
     "execution_count": 24,
     "metadata": {},
     "output_type": "execute_result"
    }
   ],
   "source": [
    "# make a groupby with total income based on store_location \n",
    "\n",
    "df.groupby(['store_location']).sum()['total_bill']"
   ]
  },
  {
   "cell_type": "markdown",
   "metadata": {},
   "source": [
    "It can be seen that the store that has the **largest revenue is in the `Hell's Kitchen`** branch."
   ]
  },
  {
   "cell_type": "code",
   "execution_count": 25,
   "metadata": {},
   "outputs": [
    {
     "data": {
      "image/png": "[encoded data removed]",
      "text/plain": [
       "<Figure size 640x480 with 1 Axes>"
      ]
     },
     "metadata": {},
     "output_type": "display_data"
    }
   ],
   "source": [
    "# I used seaborn to create pie chart\n",
    "# create color\n",
    "colors = sns.color_palette('pastel')[1:4]\n",
    "\n",
    "# create label of branch\n",
    "label = ['Astoria', \"Hell's Kitchen\", 'Lower Manhattan']\n",
    "\n",
    "# create the pie chart\n",
    "plt.pie(df.groupby(['store_location']).sum()['total_bill'], labels = label, colors = colors, autopct='%.2f%%')\n",
    "plt.show()"
   ]
  },
  {
   "cell_type": "markdown",
   "metadata": {},
   "source": [
    "In percentage terms, these three branches have revenues that are not much different. This means that the three *store* branches have relatively the same profitability. However, because we need to choose the branch that has the **largest revenue**, the **`Hell's Kitchen`** branch is the winner."
   ]
  },
  {
   "cell_type": "markdown",
   "metadata": {},
   "source": [
    "## 5. For beverage product types, what glass sizes are most ordered?"
   ]
  },
  {
   "cell_type": "code",
   "execution_count": 26,
   "metadata": {},
   "outputs": [
    {
     "data": {
      "text/plain": [
       "array(['Large', 'Regular', 'Not Defined', 'Small'], dtype=object)"
      ]
     },
     "execution_count": 26,
     "metadata": {},
     "output_type": "execute_result"
    }
   ],
   "source": [
    "# check the type of size\n",
    "\n",
    "df['size'].unique()"
   ]
  },
  {
   "cell_type": "markdown",
   "metadata": {},
   "source": [
    "`Not Defined` is a product whose size is not available, for example `Clothing` and `Housewares` products. So we will use data that contains the sizes `Large`, `Regular`, and `Small`."
   ]
  },
  {
   "cell_type": "code",
   "execution_count": 27,
   "metadata": {},
   "outputs": [],
   "source": [
    "# choose the size for glass\n",
    "\n",
    "product_size = df[(df['size'] != 'Not Defined')]"
   ]
  },
  {
   "cell_type": "code",
   "execution_count": 28,
   "metadata": {},
   "outputs": [
    {
     "data": {
      "text/plain": [
       "size\n",
       "Large      68540\n",
       "Regular    70186\n",
       "Small      21423\n",
       "Name: transaction_qty, dtype: int64"
      ]
     },
     "execution_count": 28,
     "metadata": {},
     "output_type": "execute_result"
    }
   ],
   "source": [
    "# grouping the total transaction by the size\n",
    "\n",
    "product_size.groupby(['size']).sum()['transaction_qty']"
   ]
  },
  {
   "cell_type": "markdown",
   "metadata": {},
   "source": [
    "The results showed that **the most frequently ordered glass size is Regular**."
   ]
  },
  {
   "cell_type": "code",
   "execution_count": 32,
   "metadata": {},
   "outputs": [
    {
     "data": {
      "image/png": "[encoded data removed]",
      "text/plain": [
       "<Figure size 640x480 with 1 Axes>"
      ]
     },
     "metadata": {},
     "output_type": "display_data"
    }
   ],
   "source": [
    "# define the color\n",
    "colors = sns.color_palette('pastel')[0:5]\n",
    "\n",
    "# create a list of size name\n",
    "label = ['Large', \"Regular\", 'Small']\n",
    "\n",
    "# create a pie chart with seaborn\n",
    "plt.pie(product_size.groupby(['size']).sum()['transaction_qty'], labels = label, colors = colors, autopct='%.2f%%')\n",
    "plt.show()"
   ]
  },
  {
   "cell_type": "markdown",
   "metadata": {},
   "source": [
    "In the visualization above, it is known that several glass sizes ordered had a certain percentage during the first 2 quarters. However, we know that **`Regular` sized glasses are more frequently ordered** in all store branches for any beverage product that has glass sizes."
   ]
  },
  {
   "cell_type": "markdown",
   "metadata": {},
   "source": [
    "## 6. How is the distribution of income data for 2 back quarters?"
   ]
  },
  {
   "cell_type": "code",
   "execution_count": 108,
   "metadata": {},
   "outputs": [],
   "source": [
    "# create a new dataframe with the content of total income sales\n",
    "\n",
    "profit_distribution = df[['total_bill']]"
   ]
  },
  {
   "cell_type": "markdown",
   "metadata": {},
   "source": [
    "#### Note\n",
    "\n",
    "About the `total_bill` column, there is a transaction with a value of 0. This condition only happens if a consumer orders a beverage product with an additional 1 *topping/Flavours* (this is included in the product category). However, if consumers want more than 1 *Flavours* in their order, an additional fee will be calculated.\n",
    "\n",
    "Therefore, the income data here that we will use must be paid transactions because there are certain conditions where a consumer does not pay for a product. So we will not use transaction data that has 0 bills/payments."
   ]
  },
  {
   "cell_type": "code",
   "execution_count": 109,
   "metadata": {},
   "outputs": [],
   "source": [
    "# choose the transaction with greater than $0\n",
    "\n",
    "profit_distribution = profit_distribution[(profit_distribution['total_bill'] >= 1)]"
   ]
  },
  {
   "cell_type": "code",
   "execution_count": 110,
   "metadata": {},
   "outputs": [],
   "source": [
    "# I decided to used a sample of data\n",
    "\n",
    "sample_profit_distribution = profit_distribution.sample(n=1000)"
   ]
  },
  {
   "cell_type": "code",
   "execution_count": 111,
   "metadata": {},
   "outputs": [
    {
     "name": "stdout",
     "output_type": "stream",
     "text": [
      "Rata-rata pendapatan dari setiap transaksi sebesar $4.229\n",
      "Nilai tengah dari pendapatan setiap transaksi adalah $3.0\n",
      "Besar pendapatan yang sering terjadi dalam setiap transaksi sebanyak $3\n"
     ]
    }
   ],
   "source": [
    "# look for central tendency\n",
    "\n",
    "mean = sample_profit_distribution['total_bill'].mean()\n",
    "median = sample_profit_distribution['total_bill'].median()\n",
    "modus = sample_profit_distribution['total_bill'].mode()[0]\n",
    "\n",
    "print(f'Rata-rata pendapatan dari setiap transaksi sebesar ${mean}')\n",
    "print(f'Nilai tengah dari pendapatan setiap transaksi adalah ${median}')\n",
    "print(f'Besar pendapatan yang sering terjadi dalam setiap transaksi sebanyak ${modus}')"
   ]
  },
  {
   "cell_type": "markdown",
   "metadata": {},
   "source": [
    "From the *central tendency* results, we can draw a **temporary conclusion** that the sample data **tends to be *skew* or not normally distributed** because the *mean* value is greater than the *median* and *mode*. We will test this assumption by looking at the *skewness* and *kurtosis* values."
   ]
  },
  {
   "cell_type": "code",
   "execution_count": 121,
   "metadata": {},
   "outputs": [
    {
     "name": "stdout",
     "output_type": "stream",
     "text": [
      "Nilai skewness dan kurtosis dari data pendapatan yaitu 4.984679633131832 dan 59.6439489459524\n"
     ]
    }
   ],
   "source": [
    "# check for skewness and kurtosis\n",
    "\n",
    "skewnes = sample_profit_distribution['total_bill'].skew()\n",
    "kurt = sample_profit_distribution['total_bill'].kurtosis()\n",
    "\n",
    "print(f'Nilai skewness dan kurtosis dari data pendapatan yaitu {skewnes} dan {kurt}')"
   ]
  },
  {
   "cell_type": "markdown",
   "metadata": {},
   "source": [
    "After we test the *skewness* and kurtosis values, we know that this sample data **has a skew in its distribution** (the *skewness* value is above 1). Then if we also look at the kurtosis value, **the data distribution is leptokurtic** which has extreme values ​​(*outliers*)."
   ]
  },
  {
   "cell_type": "markdown",
   "metadata": {},
   "source": [
    "To be even more sure, we try to do the *Shapiro-Wilk* test. If the *p-value* is greater than 0.05 then we can say the data is to be normally distributed."
   ]
  },
  {
   "cell_type": "code",
   "execution_count": 113,
   "metadata": {},
   "outputs": [
    {
     "name": "stdout",
     "output_type": "stream",
     "text": [
      "p-value: 5.900831399511732e-39\n"
     ]
    }
   ],
   "source": [
    "# I used stats.shapiro to measure level of distribution\n",
    "\n",
    "test_normality = stats.shapiro(sample_profit_distribution['total_bill'])\n",
    "print(f'p-value: {test_normality.pvalue}')"
   ]
  },
  {
   "cell_type": "markdown",
   "metadata": {},
   "source": [
    "It can be seen that the *Shapiro-Wilk* test value is very small so we can take the conclusion that **the population data distribution of total income is not normally distributed as judged by testing the sample data**."
   ]
  },
  {
   "cell_type": "code",
   "execution_count": 114,
   "metadata": {},
   "outputs": [
    {
     "data": {
      "text/plain": [
       "<seaborn.axisgrid.FacetGrid at 0x299d2235af0>"
      ]
     },
     "execution_count": 114,
     "metadata": {},
     "output_type": "execute_result"
    },
    {
     "data": {
      "image/png": "[encoded data removed]",
      "text/plain": [
       "<Figure size 500x500 with 1 Axes>"
      ]
     },
     "metadata": {},
     "output_type": "display_data"
    }
   ],
   "source": [
    "# create a plot to see the distribution\n",
    "\n",
    "sns.displot(sample_profit_distribution['total_bill'], kde=True, label='Profit Distribution')"
   ]
  },
  {
   "cell_type": "markdown",
   "metadata": {},
   "source": [
    "It can be seen that a lot of data is gathered on the left side (*skew*) which causes the sample data to not be normally distributed. This is very normal and not a problem."
   ]
  },
  {
   "cell_type": "markdown",
   "metadata": {},
   "source": [
    "## 7. Why is some product more ordered? Is it because more cheaper product prices?"
   ]
  },
  {
   "cell_type": "markdown",
   "metadata": {},
   "source": [
    "Next, we want to see why one product is ordered more than other products. Is it because of the price? Or just a coincidence? Or is there really a relationship between cheap product prices and the number of sales (orders)?\n",
    "\n",
    "The first thing we need to do is separate data where the payment is 0 (consumers can get 1 *flavors* for beverage products without paying/free, but still write transaction) because what we need is transaction data for consumers who buy products at a certain price. So, we only use data where at least `unit_price` is $1."
   ]
  },
  {
   "cell_type": "code",
   "execution_count": 142,
   "metadata": {},
   "outputs": [],
   "source": [
    "# create a new dataframe with the price of product greater than $0\n",
    "\n",
    "transaction_cleaned = df[(df['unit_price'] >= 1)]"
   ]
  },
  {
   "cell_type": "markdown",
   "metadata": {},
   "source": [
    "Before we start calculating the correlation, let's me set a few things first.\n",
    "1. The type of data distribution we have is not normal, so the correlation testing we use must be flexible to our data type. For this reason, the *Spearman* method was chosen which tests the correlation of 2 numerical data.\n",
    "2. In population data, the *p-value* from the correlation test will likely be small (close to 0 or even 0.0). Temporary guess, this is due to the large amount of data or perhaps a problem with computing capabilities. Whatever the reason, we will test 2 types of data, one test with population data and another one test with 1000 random sample data.\n",
    "3. We determine the hypothesis to be tested\n",
    "    - H0: There is no correlation between the price of a product and the number of purchases of that product\n",
    "    - H1: There is a correlation between the price of a product and the number of purchases of that product\n",
    "    - H0 will be accepted if *p-value* > 0.05, if not then we accept H1."
   ]
  },
  {
   "cell_type": "code",
   "execution_count": 143,
   "metadata": {},
   "outputs": [
    {
     "name": "stdout",
     "output_type": "stream",
     "text": [
      "Nilai uji korelasi dengan spearman yaitu -0.12 dan p-value sebesar 0.0\n"
     ]
    }
   ],
   "source": [
    "# used stats.spearmanr to test the correlation\n",
    "# The correlation we test is the price of a product to its purchase\n",
    "\n",
    "spearman, p_value = stats.spearmanr(transaction_cleaned['unit_price'], transaction_cleaned['transaction_qty'])\n",
    "print(f\"Nilai uji korelasi dengan spearman yaitu {spearman:.2f} dan p-value sebesar {p_value}\")"
   ]
  },
  {
   "cell_type": "markdown",
   "metadata": {},
   "source": [
    "As expected, the *p-value* is 0.0 (so small that it is written as 0.0) with the meaning **H1 is accepted**. If we test with population data, then **there is sufficient evidence that price influences product purchases**. Then, a negative *spearman* value indicates **an inverse correlation** with these two variables. The higher the value of a variable, the lower the value of other variables. In a similar context, this means **the higher the price of a product, the lower the purchase quantity**. Vice versa."
   ]
  },
  {
   "cell_type": "code",
   "execution_count": 144,
   "metadata": {},
   "outputs": [
    {
     "data": {
      "text/plain": [
       "<seaborn.axisgrid.FacetGrid at 0x299d8ae2ca0>"
      ]
     },
     "execution_count": 144,
     "metadata": {},
     "output_type": "execute_result"
    },
    {
     "data": {
      "image/png": "[encoded data removed]",
      "text/plain": [
       "<Figure size 500x500 with 1 Axes>"
      ]
     },
     "metadata": {},
     "output_type": "display_data"
    }
   ],
   "source": [
    "# we create a plot to see the visualization\n",
    "\n",
    "sns.lmplot(data=transaction_cleaned, x='unit_price', y='transaction_qty')"
   ]
  },
  {
   "cell_type": "markdown",
   "metadata": {},
   "source": [
    "Why do the data points look a little bit? This is because there is data that has the same number of orders but with different product prices so it seems slight (because they are coincide), even though the data is a lot."
   ]
  },
  {
   "cell_type": "markdown",
   "metadata": {},
   "source": [
    "Now we will try to test sample data taken randomly. Supposedly, the calculation results will not be much different from the results of the population data."
   ]
  },
  {
   "cell_type": "code",
   "execution_count": 145,
   "metadata": {},
   "outputs": [],
   "source": [
    "# take the sample\n",
    "\n",
    "sample_transaction_cleaned = transaction_cleaned.sample(n=1000)"
   ]
  },
  {
   "cell_type": "code",
   "execution_count": 146,
   "metadata": {},
   "outputs": [
    {
     "name": "stdout",
     "output_type": "stream",
     "text": [
      "Nilai uji korelasi dengan spearman yaitu -0.13 dan p-value sebesar 3.725867394222306e-05\n"
     ]
    }
   ],
   "source": [
    "# do a test correlation\n",
    "\n",
    "spearman, p_value = stats.spearmanr(sample_transaction_cleaned['unit_price'], sample_transaction_cleaned['transaction_qty'])\n",
    "print(f\"Nilai uji korelasi dengan spearman yaitu {spearman:.2f} dan p-value sebesar {p_value}\")"
   ]
  },
  {
   "cell_type": "markdown",
   "metadata": {},
   "source": [
    "It turns out that the results of calculating sample data and population data are not much different, in fact they are very close. Hypothesis H1 is accepted and there is an inverse correlation. For both samples and populations, we can conclude that **there is a correlation between price and quantity purchased**. The lower the price of a product, the greater the quantity purchased."
   ]
  },
  {
   "cell_type": "code",
   "execution_count": 147,
   "metadata": {},
   "outputs": [
    {
     "data": {
      "text/plain": [
       "<seaborn.axisgrid.FacetGrid at 0x299da06eee0>"
      ]
     },
     "execution_count": 147,
     "metadata": {},
     "output_type": "execute_result"
    },
    {
     "data": {
      "image/png": "[encoded data removed]",
      "text/plain": [
       "<Figure size 500x500 with 1 Axes>"
      ]
     },
     "metadata": {},
     "output_type": "display_data"
    }
   ],
   "source": [
    "# that the visualization\n",
    "\n",
    "sns.lmplot(data=sample_transaction_cleaned, x='unit_price', y='transaction_qty')"
   ]
  },
  {
   "cell_type": "markdown",
   "metadata": {},
   "source": [
    "In the visualization, it can be seen that the direction of the relationship is reversed, which means that the lower the number of orders, the lower the number of purchases."
   ]
  },
  {
   "cell_type": "markdown",
   "metadata": {},
   "source": [
    "## 8. Any correlation between the location of the store and total product sales?"
   ]
  },
  {
   "cell_type": "markdown",
   "metadata": {},
   "source": [
    "Lastly, sometimes a place influences the sales of a product. For this case, we will adjust it to *store* branches spread across 3 different places. Will the location of this branch affect the results of product sales or not?\n",
    "\n",
    "Here we will use the *Kendall* method correlation test because the 2 variables we are testing are categorical (`store_location`) and numerical (`transaction_qty`). On the other hand, the *Kendall* method is also flexible for data that is not normally distributed like the data we use.\n",
    "\n",
    "The hypothesis we use is as follows:\n",
    "* H0: There is no correlation between the location of the *store* branch and the number of product purchases\n",
    "* H1: There is a correlation between the location of the *store* branch and the number of product purchases\n",
    "\n",
    "H0 is accepted if *p-value* > 0.05, otherwise H1 is accepted."
   ]
  },
  {
   "cell_type": "code",
   "execution_count": 154,
   "metadata": {},
   "outputs": [
    {
     "name": "stdout",
     "output_type": "stream",
     "text": [
      "Nilai tau-correlation: 0.04, dan p-value: 1.3063058890578513e-70\n"
     ]
    },
    {
     "name": "stderr",
     "output_type": "stream",
     "text": [
      "c:\\Users\\ARIF\\AppData\\Local\\Programs\\Python\\Python39\\lib\\site-packages\\scipy\\stats\\stats.py:4812: RuntimeWarning: overflow encountered in longlong_scalars\n",
      "  (2 * xtie * ytie) / m + x0 * y0 / (9 * m * (size - 2)))\n"
     ]
    }
   ],
   "source": [
    "# do a test with stats.kendalltau()\n",
    "\n",
    "corr_tau, pval_k = stats.kendalltau(df['store_location'], df['transaction_qty'])\n",
    "print(f\"Nilai tau-correlation: {corr_tau:.2f}, dan p-value: {pval_k}\")"
   ]
  },
  {
   "cell_type": "markdown",
   "metadata": {},
   "source": [
    "Based on calculation, statistically it is clear that *p-value* < 0.05, which means we have sufficient evidence to reject H0 and accept hypothesis H1. Therefore, we have sufficient evidence that **there is a correlation between the location of the *store* branch and the number of product sales**. However, **if we review the correlation value**, it is clear that this is a **weak relationship** (because it is close to 0).\n",
    " "
   ]
  },
  {
   "cell_type": "markdown",
   "metadata": {},
   "source": [
    "If I may conclude, then what actually happens is that the location of the branch and the number of sales actually don't have that much of an influence. The reason?\n",
    "1. Obviously because the correlation value is low. The *p-value* only gives us answers via statistical evidence. How is it possible if two variables have a correlation but the strength is close to 0?\n",
    "2. If we look at the product sales results on the dashboard in Tableau, when we filter *store location*, then in the *Best Selling Products* visualization, the percentage and type of products sold do not have significant differences between every stores. This shows that the third branch store actually does not have a significant difference in the total of their sales.\n",
    "3. If the location of the *store* influences the total of sales, the income at a particular branch should be significantly different from other branches. However, what happens is, if we observe the visualization of *Monthly Profit Flow* on the Tableau dashboard, we do not find any significant differences in the amount of income for each *store*."
   ]
  },
  {
   "cell_type": "markdown",
   "metadata": {},
   "source": [
    "# E. Conclusion & Recommendation\n",
    "---\n",
    "\n",
    "At the end of this analysis, I will summarize several things to draw conclusions.\n",
    "1. The most ordered products in the first 2 quarters of 2023 are *Coffee*, then *Tea*, then *Bakery*.\n",
    "2. Every month, each store is able to receive 35,745 orders.\n",
    "3. The highest income will occur in June 2023 and the lowest will be in February 2023.\n",
    "4. The *Store* that has the highest income is the *Hell's Kitchen* branch.\n",
    "5. The most frequently ordered glass type is the *Regular* size.\n",
    "6. Income distribution during the first 2 quarters of 2023 is not normal but reasonable.\n",
    "7. Products that are cheaper in terms of price are ordered more by consumers.\n",
    "8. Statistically, the location of the branch has an influence on the number of product sales, but the conditions are very weak and perhaps it could be said that there are no conditions if we judge from the several reasons I have given."
   ]
  },
  {
   "cell_type": "markdown",
   "metadata": {},
   "source": [
    "From the conclusions I presented, I tried to make recommendations for *Head Store* regarding future programs.\n",
    "- Seeing the habits of consumers who tend to buy cheaper products, the *product bundling plan* program has quite good possibilities. The choice that I recommend is choosing a combination product that has an affordable price with different product types. For example, we know that consumers tend to order more *Coffee*, *Tea* and *Bakery*. We can create *bundling products* between *Coffee* with *Bakery* or *Tea* with *Bakery*. It's just a matter of how we determine the price limit to adjust the margin we want so that we can still make a profit.\n",
    "- If *Head Store* can make recommendations, maybe you can consider opening a new branch in the New York area (Astoria, Lower Manhattan, and Hell's Kitchen are in New York). Why? If we rely on the revenue results in the first 2 quarters, the third branch *store* has good revenue every month. Both the trend in revenue and the number of orders generally tend to increase from month to month. Plus, in big cities like NY, people's habit of drinking coffee rarely stops even though the seasons change. This could be quite a tempting opportunity to expand your business.\n",
    "- Of all the glass sizes, the *Regular* size is the most ordered. This might be an indication that the average consumer is only able to pay for normal/*Regular* size drinks or their capacity to enjoy drinks is only limited to *Regular* size. However, that doesn't mean I'm saying that they can't afford the *Large* size or don't have the money so they buy the *Small* size, this is just a temporary guess that needs further investigation. Therefore, perhaps in our *product bundling plan* we can emphasize that for the type of beverage product, we will *bundle* using the *Regular* glass size which incidentally is more frequently ordered by consumers."
   ]
  },
  {
   "cell_type": "markdown",
   "metadata": {},
   "source": [
    "All of this, just pure my conclusion and recommendation based on the analysist. If you can tell me what I need to improve, I'am very glad to hear it.\n",
    "Thank you very much."
   ]
  }
 ],
 "metadata": {
  "kernelspec": {
   "display_name": "Python 3",
   "language": "python",
   "name": "python3"
  },
  "language_info": {
   "codemirror_mode": {
    "name": "ipython",
    "version": 3
   },
   "file_extension": ".py",
   "mimetype": "text/x-python",
   "name": "python",
   "nbconvert_exporter": "python",
   "pygments_lexer": "ipython3",
   "version": "3.9.1"
  }
 },
 "nbformat": 4,
 "nbformat_minor": 2
}
